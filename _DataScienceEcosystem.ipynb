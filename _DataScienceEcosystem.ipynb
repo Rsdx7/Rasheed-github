{
 "cells": [
  {
   "cell_type": "markdown",
   "id": "60a0583a-fa37-436f-943e-2bc97b1f1024",
   "metadata": {},
   "source": [
    "# Science Tools and Ecosystem"
   ]
  },
  {
   "cell_type": "markdown",
   "id": "ba7b1dea-8756-4ac4-b37f-55cdd93057ab",
   "metadata": {},
   "source": [
    "In this notebook, Data Science Tools and Ecosystem are summarized."
   ]
  },
  {
   "cell_type": "markdown",
   "id": "f7aa2fad-e387-4039-8500-c88298b371b6",
   "metadata": {},
   "source": [
    "some of the key takeaways from the course\n",
    "\n",
    "***Objectives:***\n",
    "\n",
    "popular languages that Data Scientists\n",
    "\n",
    "commonly used libraries used by Data Scientists\n",
    "\n",
    "Evaluating arithmetic expression in Python\n"
   ]
  },
  {
   "cell_type": "markdown",
   "id": "86a0a234-8ef9-4abb-80d2-6c6bc621ca4a",
   "metadata": {},
   "source": [
    "Some of the popular languages that Data Scientists use are:\n",
    "\n",
    "1. Python\n",
    "2. R\n",
    "3. SQL\n",
    "4. Julia\n",
    "5. Java\n",
    "6. Scala\n",
    "7. SAS\n",
    "8. MATLAB\n"
   ]
  },
  {
   "cell_type": "markdown",
   "id": "e7d936c5-25e9-406c-8172-c2bb9dd843da",
   "metadata": {},
   "source": [
    "Some of the commonly used libraries used by Data Scientists include:\n",
    "1. Pandas\n",
    "2. NumPy\n",
    "3. Scikit-learn\n",
    "4. TensorFlow\n",
    "5. Keras\n",
    "6. PyTorch\n",
    "7. Matplotlib\n",
    "8. Seaborn\n",
    "9. Plotly\n",
    "10. NLTK \n"
   ]
  },
  {
   "cell_type": "markdown",
   "id": "2d6840b3-10f8-4abc-9755-13cfcd8311a0",
   "metadata": {},
   "source": [
    "|Data Science Tools|\n",
    "|------------------|\n",
    "|Jupyter Notebook|\n",
    "|Rstudio|\n",
    "|Spyder|"
   ]
  },
  {
   "cell_type": "markdown",
   "id": "4c0c2219-5c29-4f4b-a03a-986bc60c36c0",
   "metadata": {},
   "source": [
    "### Below are a few examples of evaluating arithmetic expressions in Python.\n"
   ]
  },
  {
   "cell_type": "code",
   "execution_count": 1,
   "id": "c7c4ebf2-0ae6-4a97-b909-452f904f8e2d",
   "metadata": {},
   "outputs": [
    {
     "data": {
      "text/plain": [
       "17"
      ]
     },
     "execution_count": 1,
     "metadata": {},
     "output_type": "execute_result"
    }
   ],
   "source": [
    "#This a simple arithmetic expression to mutiply then add integers\n",
    "(3*4)+5"
   ]
  },
  {
   "cell_type": "code",
   "execution_count": 3,
   "id": "59dd6b9b-3b7b-4f11-a2ca-c9e21eee2e13",
   "metadata": {},
   "outputs": [
    {
     "name": "stdout",
     "output_type": "stream",
     "text": [
      "3.3333333333333335\n"
     ]
    }
   ],
   "source": [
    "# This will convert 200 minutes to hours by diving by 60\n",
    "Hours = 200/60\n",
    "print (Hours)"
   ]
  },
  {
   "cell_type": "markdown",
   "id": "f1fccab4-a9b2-4745-9842-9abf47be86fd",
   "metadata": {},
   "source": [
    "## Author:\n",
    "Rasheed Aribidesi "
   ]
  },
  {
   "cell_type": "code",
   "execution_count": null,
   "id": "e22a0ee4-e32f-457f-b542-daf99b34a41c",
   "metadata": {},
   "outputs": [],
   "source": []
  }
 ],
 "metadata": {
  "kernelspec": {
   "display_name": "Python 3 (ipykernel)",
   "language": "python",
   "name": "python3"
  },
  "language_info": {
   "codemirror_mode": {
    "name": "ipython",
    "version": 3
   },
   "file_extension": ".py",
   "mimetype": "text/x-python",
   "name": "python",
   "nbconvert_exporter": "python",
   "pygments_lexer": "ipython3",
   "version": "3.11.7"
  }
 },
 "nbformat": 4,
 "nbformat_minor": 5
}
